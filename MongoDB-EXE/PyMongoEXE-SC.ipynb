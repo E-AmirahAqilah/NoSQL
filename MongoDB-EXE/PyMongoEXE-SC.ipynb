{
 "cells": [
  {
   "cell_type": "markdown",
   "metadata": {},
   "source": [
    "<img src=\"images/cads-logo.png\" style=\"height: 100px;\" align=left> <img src=\"images/MongoDB_logo.png\" style=\"height: 40%;width:40%\" align=right>"
   ]
  },
  {
   "cell_type": "markdown",
   "metadata": {},
   "source": [
    "In this exercise notebook, we are going to work on a database which consists of two collections, prizes and laureates. In the prizes collection, every document correspond to a single Nobel prize, and in the laureates collection, every document correspond to a single Nobel laureate."
   ]
  },
  {
   "cell_type": "code",
   "execution_count": null,
   "metadata": {},
   "outputs": [],
   "source": [
    "!pip install pymongo"
   ]
  },
  {
   "cell_type": "code",
   "execution_count": 2,
   "metadata": {},
   "outputs": [],
   "source": [
    "import pymongo\n",
    "import json"
   ]
  },
  {
   "cell_type": "code",
   "execution_count": 3,
   "metadata": {},
   "outputs": [],
   "source": [
    "# Create a MongoDB Client\n",
    "client=pymongo.MongoClient()"
   ]
  },
  {
   "cell_type": "code",
   "execution_count": 10,
   "metadata": {},
   "outputs": [],
   "source": [
    "# Load data from Prizes JSON file and insert them into prizes collection.\n",
    "with open('prizes.json') as f:\n",
    "    file_data = json.load(f)\n",
    "\n",
    "\n",
    "prizes.insert_many(file_data)  \n",
    "client.close()"
   ]
  },
  {
   "cell_type": "code",
   "execution_count": null,
   "metadata": {},
   "outputs": [],
   "source": [
    "# Load data from Laureates JSON file and insert them into laureates collection.\n",
    "\n",
    "with open('laureates.json') as f:\n",
    "    file_data = json.load(f)\n",
    "\n",
    "\n",
    "laureates.insert_many(file_data)  \n",
    "client.close()\n"
   ]
  },
  {
   "cell_type": "code",
   "execution_count": 4,
   "metadata": {},
   "outputs": [],
   "source": [
    "\n",
    "db = client['Nobel']\n",
    "prizes = db['prizes']\n",
    "laureates = db['laureates']\n",
    "\n",
    "\n",
    "\n",
    "x = laureates.find().limit(1)"
   ]
  },
  {
   "cell_type": "code",
   "execution_count": 5,
   "metadata": {},
   "outputs": [],
   "source": [
    "from pprint import pprint\n"
   ]
  },
  {
   "cell_type": "code",
   "execution_count": 6,
   "metadata": {},
   "outputs": [
    {
     "name": "stdout",
     "output_type": "stream",
     "text": [
      "{'_id': ObjectId('5db70a54ed63f8e506494053'),\n",
      " 'born': '1853-07-18',\n",
      " 'bornCity': 'Arnhem',\n",
      " 'bornCountry': 'the Netherlands',\n",
      " 'bornCountryCode': 'NL',\n",
      " 'died': '1928-02-04',\n",
      " 'diedCountry': 'the Netherlands',\n",
      " 'diedCountryCode': 'NL',\n",
      " 'firstname': 'Hendrik Antoon',\n",
      " 'gender': 'male',\n",
      " 'id': '2',\n",
      " 'prizes': [{'affiliations': [{'city': 'Leiden',\n",
      "                               'country': 'the Netherlands',\n",
      "                               'name': 'Leiden University'}],\n",
      "             'category': 'physics',\n",
      "             'motivation': '\"in recognition of the extraordinary service they '\n",
      "                           'rendered by their researches into the influence of '\n",
      "                           'magnetism upon radiation phenomena\"',\n",
      "             'share': '2',\n",
      "             'year': '1902'}],\n",
      " 'surname': 'Lorentz'}\n"
     ]
    }
   ],
   "source": [
    "for i in x:\n",
    "    pprint(i)"
   ]
  },
  {
   "cell_type": "markdown",
   "metadata": {},
   "source": [
    "#### Exercise 1: Count the documents in these two collections"
   ]
  },
  {
   "cell_type": "markdown",
   "metadata": {},
   "source": [
    "**Hint**\n",
    "- You can access the `Nobel` database as `client.Nobel`, and e.g. the prizes collection as `client.Nobel.prizes`.\n",
    "- Remember that you need to pass an empty filter document `({})` to the `.count_documents()` method of a collection."
   ]
  },
  {
   "cell_type": "code",
   "execution_count": 4,
   "metadata": {},
   "outputs": [],
   "source": [
    "# Your code goes here"
   ]
  },
  {
   "cell_type": "code",
   "execution_count": 3,
   "metadata": {},
   "outputs": [],
   "source": [
    "# Your code goes here"
   ]
  },
  {
   "cell_type": "markdown",
   "metadata": {},
   "source": [
    "#### Exercise 2: List the databases and collections in the MongoDB instance."
   ]
  },
  {
   "cell_type": "markdown",
   "metadata": {},
   "source": [
    "**Hint**\n",
    "- You can access a database instance by name as an attribute of a connected client instance. Remember to use the `.list_*_names()` methods \n",
    "- There are special databases and collections that MongoDB creates on its own."
   ]
  },
  {
   "cell_type": "code",
   "execution_count": 2,
   "metadata": {},
   "outputs": [],
   "source": [
    "# Your code goes here"
   ]
  },
  {
   "cell_type": "markdown",
   "metadata": {},
   "source": [
    "#### Exercise 3: List fields of each document.\n",
    "- Since `prize` and `laureate` are dictionaries, you can use the `.keys()` method to return the keys (i.e. the field names). But it's often more convenient to work with lists of fields.\n",
    "- In order to work with the field names in a more convenient way, it is better to convert them to lists."
   ]
  },
  {
   "cell_type": "code",
   "execution_count": 1,
   "metadata": {},
   "outputs": [],
   "source": [
    "# Your code goes here"
   ]
  },
  {
   "cell_type": "markdown",
   "metadata": {},
   "source": [
    "#### Exercise 4: In this exercise, we are going to return the number of laureates born prior to 1800.\n",
    "- The `born` field in a laureate collection document records the date of birth of that laureate."
   ]
  },
  {
   "cell_type": "markdown",
   "metadata": {},
   "source": [
    "**Hint**\n",
    "\n",
    "`born` values are of the form \"YYYY-MM-DD\", also known as ISO 8601 format. An example value is \"1937-02-01\", for February 1st, 1937. This format is convenient for lexicographic comparison."
   ]
  },
  {
   "cell_type": "code",
   "execution_count": 5,
   "metadata": {},
   "outputs": [],
   "source": [
    "# Your code goes here"
   ]
  },
  {
   "cell_type": "markdown",
   "metadata": {},
   "source": [
    "#### Exercise 5: Count laureates who died in the USA, were born in Germany, and whose first name was \"Albert\".\n",
    "\n",
    "Use the following fields,\n",
    "- diedCountry\n",
    "- bornCountry\n",
    "- firstname\n"
   ]
  },
  {
   "cell_type": "code",
   "execution_count": null,
   "metadata": {},
   "outputs": [],
   "source": [
    "# Your code goes here"
   ]
  },
  {
   "cell_type": "markdown",
   "metadata": {},
   "source": [
    "#### Exercise 6: Write a query that returns the number of laureates were born in \"USA\", \"Canada\", or \"Mexico\"."
   ]
  },
  {
   "cell_type": "code",
   "execution_count": 6,
   "metadata": {},
   "outputs": [],
   "source": [
    "# Your code goes here"
   ]
  },
  {
   "cell_type": "markdown",
   "metadata": {},
   "source": [
    "#### Exercise 7: Write a query that returns the number of laureates died in the USA but were not born there."
   ]
  },
  {
   "cell_type": "code",
   "execution_count": 7,
   "metadata": {},
   "outputs": [],
   "source": [
    "# Your code goes here"
   ]
  },
  {
   "cell_type": "markdown",
   "metadata": {},
   "source": [
    "#### Exercise 8: Write a query that returns the number of laureates born in Austria with a prize affiliation country that is not Austria."
   ]
  },
  {
   "cell_type": "code",
   "execution_count": 8,
   "metadata": {},
   "outputs": [],
   "source": [
    "# Your code goes here"
   ]
  },
  {
   "cell_type": "markdown",
   "metadata": {},
   "source": [
    "#### Exercise 9: Count the laureates that don't have birthdate (`born`) field on their corresponding documents."
   ]
  },
  {
   "cell_type": "code",
   "execution_count": 9,
   "metadata": {},
   "outputs": [],
   "source": [
    "# Your code goes here"
   ]
  },
  {
   "cell_type": "markdown",
   "metadata": {},
   "source": [
    "#### Exercise 10: Write a query that returns the laureates with at least three prizes."
   ]
  },
  {
   "cell_type": "markdown",
   "metadata": {},
   "source": [
    "**Hint**\n",
    "- Use [`$exists`](https://docs.mongodb.com/manual/reference/operator/query/exists/) and dot notation to query for the presence of an element at index 2 (zero-based) of the prizes array.\n",
    "- Use the [`.find_one()`](https://www.w3schools.com/python/python_mongodb_find.asp) with an appropriate filter to find one document."
   ]
  },
  {
   "cell_type": "code",
   "execution_count": 10,
   "metadata": {},
   "outputs": [],
   "source": [
    "# Your code goes here"
   ]
  },
  {
   "cell_type": "markdown",
   "metadata": {},
   "source": [
    "#### Exercise 11: There are some recorded countries of death that do not appear as a country of birth for laureates. One such country is \"East Germany\". Return a set of all such countries.\n",
    "\n",
    "- Use the distinct method of the `db.laureates` collection."
   ]
  },
  {
   "cell_type": "code",
   "execution_count": 11,
   "metadata": {},
   "outputs": [],
   "source": [
    "# Your code goes here"
   ]
  },
  {
   "cell_type": "markdown",
   "metadata": {},
   "source": [
    "#### Exercise 12: Write a query that returns the number of distinct countries of laureate affiliation for prizes.\n"
   ]
  },
  {
   "cell_type": "code",
   "execution_count": 12,
   "metadata": {},
   "outputs": [],
   "source": [
    "# Your code goes here"
   ]
  },
  {
   "cell_type": "markdown",
   "metadata": {},
   "source": [
    "#### Exercise 13: Write a query that returns the list of countries that US-born laureates have had affiliations for their prizes."
   ]
  },
  {
   "cell_type": "code",
   "execution_count": 13,
   "metadata": {},
   "outputs": [],
   "source": [
    "# Your code goes here"
   ]
  },
  {
   "cell_type": "markdown",
   "metadata": {},
   "source": [
    "#### Exercise 14: Write a query that return the list of nobel prize categories have had prizes shared by three or more laureates."
   ]
  },
  {
   "cell_type": "code",
   "execution_count": 14,
   "metadata": {},
   "outputs": [],
   "source": [
    "# Your code goes here"
   ]
  },
  {
   "cell_type": "markdown",
   "metadata": {},
   "source": [
    "#### Exercise 15: Write a piece of code to show the approximate ratio of the number of laureates who won an unshared prize in physics after World War II  to the number of laureates who won a shared prize in physics after World War II?\n",
    "- World War II finished in 1945."
   ]
  },
  {
   "cell_type": "markdown",
   "metadata": {},
   "source": [
    "**Hint**\n",
    "\n",
    "- Use the `$elemMatch` operator to wrap all other criteria. You'll need to use operators to express a value being \"in\" a list, a value being \"not equal to\" another value, and a value being \"greater than or equal to\" another value."
   ]
  },
  {
   "cell_type": "code",
   "execution_count": 15,
   "metadata": {},
   "outputs": [],
   "source": [
    "# Your code goes here"
   ]
  },
  {
   "cell_type": "markdown",
   "metadata": {},
   "source": [
    "#### Exercise 16: How many percent of organizations won prizes before 1945 versus in or after 1945?\n"
   ]
  },
  {
   "cell_type": "code",
   "execution_count": 8,
   "metadata": {},
   "outputs": [
    {
     "name": "stdout",
     "output_type": "stream",
     "text": [
      "%84\n"
     ]
    }
   ],
   "source": [
    "# Your code goes here"
   ]
  },
  {
   "cell_type": "markdown",
   "metadata": {},
   "source": [
    "#### Exercise 17: Use the regular expression operator `$regex` to write a query that to collect the full names of laureates whose initials are \"A.E.\".\n",
    "\n",
    "**Hint**\n",
    "\n",
    "- Concatenate `firstname` and `surname` fields together with a space in between to obtain the list of full names.\n"
   ]
  },
  {
   "cell_type": "code",
   "execution_count": 16,
   "metadata": {},
   "outputs": [],
   "source": [
    "# Your code goes here"
   ]
  },
  {
   "cell_type": "markdown",
   "metadata": {},
   "source": [
    "#### Exercise 18: Write a query that returns list of laureates that participated in each nobel prizes with their prize shares.\n",
    "\n",
    "**Hint**\n",
    "\n",
    "Each `laureates.share` value stores a laureate's fractional share of that prize, encoded as a string. For example, a laureate \"share\" of \"4\" means that this laureate received a $\\frac{1}{4}$ share of the prize."
   ]
  },
  {
   "cell_type": "code",
   "execution_count": 17,
   "metadata": {},
   "outputs": [],
   "source": [
    "# Your code goes here"
   ]
  },
  {
   "cell_type": "markdown",
   "metadata": {},
   "source": [
    "#### Exercise 19: A Nobel prize can be awarded to a single laureate or several laureates. In this exercise, we are going to generate a list of the most recent year that only a single laureate received a prize in each category.\n",
    "\n",
    "**Hint**\n",
    "- Use `db.prizes.create_index` to create an index that speeds up finding prizes by category and sorting results by decreasing year. The indexing model should index first on category in ascending order and then on year in descending order."
   ]
  },
  {
   "cell_type": "code",
   "execution_count": 18,
   "metadata": {},
   "outputs": [],
   "source": [
    "# Your code goes here"
   ]
  },
  {
   "cell_type": "markdown",
   "metadata": {},
   "source": [
    "#### Exercise 20: Write a query that counts the number of laureates documents for which that country is both the `bornCountry` and a `prizes.affiliations.country` for the laureate, and return the five countries of birth with the highest counts of such laureates.\n",
    "\n",
    "**Hint**\n",
    "- Use [Counter](https://docs.python.org/2/library/collections.html#collections.Counter) class and [most_common](https://docs.python.org/2/library/collections.html#collections.Counter.most_common) method to return the five most common countires and the number of their corresponding documents"
   ]
  },
  {
   "cell_type": "code",
   "execution_count": 19,
   "metadata": {},
   "outputs": [],
   "source": [
    "# Your code goes here"
   ]
  },
  {
   "cell_type": "markdown",
   "metadata": {},
   "source": [
    "#### Exercise 21: Create a pipeline and use aggregation function to generate a list of birth country and prize affiliation country  for three non-organization laureates."
   ]
  },
  {
   "cell_type": "code",
   "execution_count": 20,
   "metadata": {},
   "outputs": [],
   "source": [
    "# Your code goes here"
   ]
  },
  {
   "cell_type": "markdown",
   "metadata": {},
   "source": [
    "#### Exercise 22: Write a query by using an aggregation pipeline that counts prizes awarded to organizations."
   ]
  },
  {
   "cell_type": "code",
   "execution_count": 21,
   "metadata": {},
   "outputs": [],
   "source": [
    "# Your code goes here"
   ]
  },
  {
   "cell_type": "code",
   "execution_count": null,
   "metadata": {},
   "outputs": [],
   "source": []
  }
 ],
 "metadata": {
  "kernelspec": {
   "display_name": "Python 3",
   "language": "python",
   "name": "python3"
  },
  "language_info": {
   "codemirror_mode": {
    "name": "ipython",
    "version": 3
   },
   "file_extension": ".py",
   "mimetype": "text/x-python",
   "name": "python",
   "nbconvert_exporter": "python",
   "pygments_lexer": "ipython3",
   "version": "3.7.4"
  }
 },
 "nbformat": 4,
 "nbformat_minor": 2
}
